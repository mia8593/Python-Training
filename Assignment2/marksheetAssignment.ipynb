{
 "cells": [
  {
   "cell_type": "code",
   "execution_count": 1,
   "id": "fde93b90",
   "metadata": {},
   "outputs": [
    {
     "name": "stdout",
     "output_type": "stream",
     "text": [
      "248\n"
     ]
    }
   ],
   "source": [
    "# Program by Majid Iqbal - JP12132\n",
    "\n",
    "math = 89;\n",
    "physic = 79;\n",
    "islamiyat = 80;\n",
    "totalMarks=300;\n",
    "\n",
    "obtainMarks = math + physic + islamiyat;\n",
    "print(obtainMarks);"
   ]
  },
  {
   "cell_type": "code",
   "execution_count": 2,
   "id": "d95601c4",
   "metadata": {},
   "outputs": [
    {
     "name": "stdout",
     "output_type": "stream",
     "text": [
      "82.66666666666667\n"
     ]
    }
   ],
   "source": [
    "# Program by Majid Iqbal - JP12132\n",
    "\n",
    "math = 89;\n",
    "physic = 79;\n",
    "islamiyat = 80;\n",
    "totalMarks=300;\n",
    "\n",
    "obtainMarks = math + physic + islamiyat;\n",
    "percentage = obtainMarks / totalMarks * 100;\n",
    "print(percentage);\n"
   ]
  },
  {
   "cell_type": "code",
   "execution_count": 5,
   "id": "419363dc",
   "metadata": {},
   "outputs": [
    {
     "data": {
      "text/plain": [
       "'5.56'"
      ]
     },
     "execution_count": 5,
     "metadata": {},
     "output_type": "execute_result"
    }
   ],
   "source": [
    "pi=5.5555555;\n",
    "format(pi, '.2f')"
   ]
  },
  {
   "cell_type": "code",
   "execution_count": 84,
   "id": "fd29386a",
   "metadata": {},
   "outputs": [
    {
     "name": "stdout",
     "output_type": "stream",
     "text": [
      "RESULT MARKSHEET\n",
      "----------------------------------------\n",
      "SUBJECTS     | MATH | PHYSIC | ISLAMIYAT\n",
      "MARKS OBTAIN | 90   | 40     | 90\n",
      "MAX Marks    | 100  | 100    | 100 \n",
      "----------------------------------------\n",
      "OBTAIN MARKS : 220\n",
      "TOTAL MARKS : 300\n",
      "GRADE : A\n"
     ]
    }
   ],
   "source": [
    "# Program by Majid Iqbal - JP12132\n",
    "\n",
    "math = 90;\n",
    "physic = 40;\n",
    "islamiyat = 90;\n",
    "totalMarks=300;\n",
    "\n",
    "obtainMarks = math + physic + islamiyat;\n",
    "percentage = obtainMarks / totalMarks * 100;\n",
    "# percentage = format(percentage, '.2f');\n",
    "\n",
    "print (\"RESULT MARKSHEET\");\n",
    "\n",
    "\n",
    "print(\"----------------------------------------\");\n",
    "print(\"SUBJECTS     | MATH | PHYSIC | ISLAMIYAT\");\n",
    "print(\"MARKS OBTAIN | \"+ str(math) +\"   | \" + str(physic) + \"     | \" + str(islamiyat) );\n",
    "print(\"MAX Marks    | 100  | 100    | 100 \");\n",
    "print(\"----------------------------------------\");\n",
    "print (\"OBTAIN MARKS : \" + str(obtainMarks));\n",
    "print (\"TOTAL MARKS : \" + str(totalMarks));\n",
    "\n",
    "if percentage >= 80:\n",
    "    print(\"GRADE : A1\");\n",
    "\n",
    "elif percentage >70 and percentage < 79:\n",
    "    print(\"GRADE : A\");\n",
    "    \n",
    "elif percentage >=60 and percentage <= 69:\n",
    "    print(\"GRADE : B\");\n",
    "    \n",
    "elif percentage >=50 and percentage <= 59:\n",
    "    print(\"GRADE : C\");\n",
    "    \n",
    "elif percentage >=40 and percentage <= 49:  \n",
    "    print(\"GRADE : D\");\n",
    "    \n",
    "else:\n",
    "    print (\"FAIL\");    \n"
   ]
  },
  {
   "cell_type": "code",
   "execution_count": 85,
   "id": "6973f6ba",
   "metadata": {},
   "outputs": [
    {
     "name": "stdout",
     "output_type": "stream",
     "text": [
      "RESULT MARKSHEET\n",
      "MATH\n",
      "90\n",
      "PHYSIC\n",
      "40\n",
      "ISLAMIYAT\n",
      "90\n",
      "OBTAIN MARKS\n",
      "220\n",
      "TOTAL MARKS\n",
      "300\n",
      "GRADE : A\n"
     ]
    }
   ],
   "source": [
    "# Program by Majid Iqbal - JP12132\n",
    "\n",
    "math = 90;\n",
    "physic = 40;\n",
    "islamiyat = 80;\n",
    "totalMarks=300;\n",
    "\n",
    "obtainMarks = math + physic + islamiyat;\n",
    "percentage = obtainMarks / totalMarks * 100;\n",
    "# percentage = format(percentage, '.2f');\n",
    "\n",
    "print (\"RESULT MARKSHEET\");\n",
    "print(\"MATH\");\n",
    "print(math);\n",
    "print(\"PHYSIC\");\n",
    "print(physic);\n",
    "print(\"ISLAMIYAT\");\n",
    "print(islamiyat);\n",
    "print(\"OBTAIN MARKS\");\n",
    "print(obtainMarks);\n",
    "print(\"TOTAL MARKS\");\n",
    "print(totalMarks);\n",
    "\n",
    "if percentage >= 80:\n",
    "    print(\"GRADE : A1\");\n",
    "elif percentage >70 and percentage < 79:\n",
    "    print(\"GRADE : A\");\n",
    "elif percentage >=60 and percentage <= 69:\n",
    "    print(\"GRADE : B\");\n",
    "elif percentage >=50 and percentage <= 59:\n",
    "    print(\"GRADE : C\");\n",
    "elif percentage >=40 and percentage <= 49:  \n",
    "    print(\"GRADE : D\");\n",
    "else:\n",
    "    print (\"FAIL\");    \n"
   ]
  },
  {
   "cell_type": "code",
   "execution_count": 8,
   "id": "8beb2efd",
   "metadata": {},
   "outputs": [
    {
     "name": "stdout",
     "output_type": "stream",
     "text": [
      "RESULT MARKSHEET\n",
      "----------------------------------------\n",
      "SUBJECTS     | MATH | PHYSIC | ISLAMIYAT\n",
      "MARKS OBTAIN | 90   | 400     | 700\n",
      "MAX Marks    | 100  | 100    | 100 \n",
      "----------------------------------------\n",
      "OBTAIN MARKS : 1190\n",
      "TOTAL MARKS : 300\n",
      "You Make a MISTAKE in marks or percentage\n"
     ]
    }
   ],
   "source": [
    "# Program by Majid Iqbal - JP12132\n",
    "\n",
    "math = 90;\n",
    "physic = 400;\n",
    "islamiyat = 700;\n",
    "totalMarks=300;\n",
    "\n",
    "obtainMarks = math + physic + islamiyat;\n",
    "percentage = obtainMarks / totalMarks * 100;\n",
    "# percentage = format(percentage, '.2f');\n",
    "\n",
    "print (\"RESULT MARKSHEET\");\n",
    "\n",
    "\n",
    "print(\"----------------------------------------\");\n",
    "print(\"SUBJECTS     | MATH | PHYSIC | ISLAMIYAT\");\n",
    "print(\"MARKS OBTAIN | \"+ str(math) +\"   | \" + str(physic) + \"     | \" + str(islamiyat) );\n",
    "print(\"MAX Marks    | 100  | 100    | 100 \");\n",
    "print(\"----------------------------------------\");\n",
    "print (\"OBTAIN MARKS : \" + str(obtainMarks));\n",
    "print (\"TOTAL MARKS : \" + str(totalMarks));\n",
    "\n",
    "if percentage >= 80 and percentage <= 100:\n",
    "    print(\"GRADE : A1\");\n",
    "elif percentage >70 and percentage < 79:\n",
    "    print(\"GRADE : A\");\n",
    "elif percentage >=60 and percentage <= 69:\n",
    "    print(\"GRADE : B\");\n",
    "elif percentage >=50 and percentage <= 59:\n",
    "    print(\"GRADE : C\");\n",
    "elif percentage >=40 and percentage <= 49:  \n",
    "    print(\"GRADE : D\");\n",
    "elif percentage < 0 or percentage > 100:  \n",
    "    print(\"You Make a MISTAKE in marks or percentage\");\n",
    "\n",
    "else:\n",
    "    print (\"FAIL\");    \n",
    "    \n",
    "    print (percentage);\n"
   ]
  },
  {
   "cell_type": "code",
   "execution_count": 11,
   "id": "1f390962",
   "metadata": {},
   "outputs": [
    {
     "name": "stdout",
     "output_type": "stream",
     "text": [
      "Enter Math Marks: 55\n",
      "Enter Physics Marks: 66\n",
      "Enter Islamiyat Marks: 77\n",
      "RESULT MARKSHEET\n",
      "----------------------------------------\n",
      "SUBJECTS     | MATH | PHYSIC | ISLAMIYAT\n",
      "MARKS OBTAIN | 55   | 66     | 77\n",
      "MAX Marks    | 100  | 100    | 100 \n",
      "----------------------------------------\n",
      "OBTAIN MARKS : 198\n",
      "TOTAL MARKS : 300\n",
      "GRADE : B\n"
     ]
    }
   ],
   "source": [
    "# Program by Majid Iqbal - JP12132\n",
    "\n",
    "math = input(\"Enter Math Marks: \");\n",
    "physic = input(\"Enter Physics Marks: \");\n",
    "islamiyat = input(\"Enter Islamiyat Marks: \");\n",
    "totalMarks=300;\n",
    "\n",
    "obtainMarks = int(math) + int(physic) + int(islamiyat);\n",
    "percentage = obtainMarks / totalMarks * 100;\n",
    "# percentage = format(percentage, '.2f');\n",
    "\n",
    "print (\"RESULT MARKSHEET\");\n",
    "\n",
    "\n",
    "print(\"----------------------------------------\");\n",
    "print(\"SUBJECTS     | MATH | PHYSIC | ISLAMIYAT\");\n",
    "print(\"MARKS OBTAIN | \"+ str(math) +\"   | \" + str(physic) + \"     | \" + str(islamiyat) );\n",
    "print(\"MAX Marks    | 100  | 100    | 100 \");\n",
    "print(\"----------------------------------------\");\n",
    "print (\"OBTAIN MARKS : \" + str(obtainMarks));\n",
    "print (\"TOTAL MARKS : \" + str(totalMarks));\n",
    "\n",
    "if percentage >= 80 and percentage <= 100:\n",
    "    print(\"GRADE : A1\");\n",
    "elif percentage >70 and percentage < 79:\n",
    "    print(\"GRADE : A\");\n",
    "elif percentage >=60 and percentage <= 69:\n",
    "    print(\"GRADE : B\");\n",
    "elif percentage >=50 and percentage <= 59:\n",
    "    print(\"GRADE : C\");\n",
    "elif percentage >=40 and percentage <= 49:  \n",
    "    print(\"GRADE : D\");\n",
    "elif percentage < 0 or percentage > 100:  \n",
    "    print(\"You Make a MISTAKE in marks or percentage\");\n",
    "\n",
    "else:\n",
    "    print (\"FAIL\");    \n",
    "    \n",
    "    print (percentage);\n"
   ]
  },
  {
   "cell_type": "code",
   "execution_count": null,
   "id": "df0ec2d2",
   "metadata": {},
   "outputs": [],
   "source": []
  }
 ],
 "metadata": {
  "kernelspec": {
   "display_name": "Python 3",
   "language": "python",
   "name": "python3"
  },
  "language_info": {
   "codemirror_mode": {
    "name": "ipython",
    "version": 3
   },
   "file_extension": ".py",
   "mimetype": "text/x-python",
   "name": "python",
   "nbconvert_exporter": "python",
   "pygments_lexer": "ipython3",
   "version": "3.8.8"
  }
 },
 "nbformat": 4,
 "nbformat_minor": 5
}
