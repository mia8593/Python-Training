{
 "cells": [
  {
   "cell_type": "code",
   "execution_count": 10,
   "id": "74e90bc0",
   "metadata": {},
   "outputs": [
    {
     "name": "stdout",
     "output_type": "stream",
     "text": [
      "Twinkle, twinkle, little star,\n",
      " \t How I wonder what you are! \n",
      " \t\t Up above the world so high, \n",
      " \t\t Like a diamond in the sky. \n",
      "Twinkle, twinkle, little star, \n",
      " \t How I wonder what you are \n"
     ]
    }
   ],
   "source": [
    "# Program by Majid Iqbal - JP12132\n",
    "\n",
    "print(\"Twinkle, twinkle, little star,\\n \\t How I wonder what you are! \\n \\t\\t Up above the world so high, \\n \\t\\t Like a diamond in the sky. \\nTwinkle, twinkle, little star, \\n \\t How I wonder what you are \")"
   ]
  },
  {
   "cell_type": "code",
   "execution_count": null,
   "id": "72650ee1",
   "metadata": {},
   "outputs": [],
   "source": []
  },
  {
   "cell_type": "code",
   "execution_count": null,
   "id": "6cb85ffd",
   "metadata": {},
   "outputs": [],
   "source": []
  }
 ],
 "metadata": {
  "kernelspec": {
   "display_name": "Python 3",
   "language": "python",
   "name": "python3"
  },
  "language_info": {
   "codemirror_mode": {
    "name": "ipython",
    "version": 3
   },
   "file_extension": ".py",
   "mimetype": "text/x-python",
   "name": "python",
   "nbconvert_exporter": "python",
   "pygments_lexer": "ipython3",
   "version": "3.8.8"
  }
 },
 "nbformat": 4,
 "nbformat_minor": 5
}
