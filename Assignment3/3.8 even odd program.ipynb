{
 "cells": [
  {
   "cell_type": "code",
   "execution_count": 1,
   "id": "48b40201",
   "metadata": {},
   "outputs": [
    {
     "name": "stdout",
     "output_type": "stream",
     "text": [
      "EVEN OR ODD NUMBER CHECKING PROGRAM\n",
      "Enter a Number4\n",
      "4\n"
     ]
    }
   ],
   "source": [
    "# Program by Majid Iqbal - JP12132\n",
    "print(\"EVEN OR ODD NUMBER CHECKING PROGRAM\");\n",
    "no = input(\"Enter a Number\");\n",
    "\n",
    "print(no);\n"
   ]
  },
  {
   "cell_type": "code",
   "execution_count": 15,
   "id": "bbfed218",
   "metadata": {},
   "outputs": [
    {
     "name": "stdout",
     "output_type": "stream",
     "text": [
      "EVEN OR ODD NUMBER CHECKING PROGRAM\n",
      "Enter a Number: 55\n",
      "\"Given no is ODD NUMBER\"\n"
     ]
    }
   ],
   "source": [
    "# Program by Majid Iqbal - JP12132\n",
    "print(\"EVEN OR ODD NUMBER CHECKING PROGRAM\");\n",
    "no = input(\"Enter a Number: \");\n",
    "\n",
    "# print (no / 2);\n",
    "# print (no % 2);\n",
    "\n",
    "if (int(no) % 2) == 0:\n",
    "    print('\"Given no is EVEN NUMBER\"');\n",
    "elif (int(no) % 2) == 1:\n",
    "    print('\"Given no is ODD NUMBER\"');\n",
    "else:\n",
    "    print(\"UNDEFINE ERROR: \");\n",
    "\n"
   ]
  },
  {
   "cell_type": "code",
   "execution_count": null,
   "id": "9e798ee2",
   "metadata": {},
   "outputs": [],
   "source": []
  },
  {
   "cell_type": "code",
   "execution_count": null,
   "id": "ab3454cc",
   "metadata": {},
   "outputs": [],
   "source": []
  }
 ],
 "metadata": {
  "kernelspec": {
   "display_name": "Python 3",
   "language": "python",
   "name": "python3"
  },
  "language_info": {
   "codemirror_mode": {
    "name": "ipython",
    "version": 3
   },
   "file_extension": ".py",
   "mimetype": "text/x-python",
   "name": "python",
   "nbconvert_exporter": "python",
   "pygments_lexer": "ipython3",
   "version": "3.8.8"
  }
 },
 "nbformat": 4,
 "nbformat_minor": 5
}
