{
 "cells": [
  {
   "cell_type": "code",
   "execution_count": 7,
   "id": "ae89087f",
   "metadata": {},
   "outputs": [
    {
     "name": "stdout",
     "output_type": "stream",
     "text": [
      "First Name: Majid\n",
      "Last Name: Iqbal\n",
      "dijaM labqI\n"
     ]
    }
   ],
   "source": [
    "# Program by Majid Iqbal - JP12132\n",
    "\n",
    "text = input(\"First Name: \")[::-1]\n",
    "text +=\" \";\n",
    "text += input(\"Last Name: \")[::-1]\n",
    "print(text)"
   ]
  },
  {
   "cell_type": "code",
   "execution_count": 10,
   "id": "bb629e54",
   "metadata": {},
   "outputs": [
    {
     "name": "stdout",
     "output_type": "stream",
     "text": [
      "First Name: Kamiyaab\n",
      "Last Name: Pakistan\n",
      "natsikaP baayimaK\n"
     ]
    }
   ],
   "source": [
    "# Program by Majid Iqbal - JP12132\n",
    "\n",
    "text = input(\"First Name: \")\n",
    "text +=\" \";\n",
    "text += input(\"Last Name: \")\n",
    "print(text[::-1])"
   ]
  },
  {
   "cell_type": "code",
   "execution_count": null,
   "id": "c80e418f",
   "metadata": {},
   "outputs": [],
   "source": []
  }
 ],
 "metadata": {
  "kernelspec": {
   "display_name": "Python 3",
   "language": "python",
   "name": "python3"
  },
  "language_info": {
   "codemirror_mode": {
    "name": "ipython",
    "version": 3
   },
   "file_extension": ".py",
   "mimetype": "text/x-python",
   "name": "python",
   "nbconvert_exporter": "python",
   "pygments_lexer": "ipython3",
   "version": "3.8.8"
  }
 },
 "nbformat": 4,
 "nbformat_minor": 5
}
