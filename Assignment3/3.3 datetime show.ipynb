{
 "cells": [
  {
   "cell_type": "code",
   "execution_count": 29,
   "id": "c069b855",
   "metadata": {},
   "outputs": [
    {
     "data": {
      "text/plain": [
       "datetime.datetime(2021, 10, 24, 2, 0, 8, 85561)"
      ]
     },
     "execution_count": 29,
     "metadata": {},
     "output_type": "execute_result"
    }
   ],
   "source": [
    "# Program by Majid Iqbal - JP12132\n",
    "import datetime;\n",
    "datetime.datetime.now()"
   ]
  },
  {
   "cell_type": "code",
   "execution_count": 11,
   "id": "d2784264",
   "metadata": {},
   "outputs": [
    {
     "name": "stdout",
     "output_type": "stream",
     "text": [
      "2021-10-24 01:20:13.264462\n"
     ]
    }
   ],
   "source": [
    "import datetime;\n",
    "a=datetime.datetime.now();\n",
    "print(a)"
   ]
  },
  {
   "cell_type": "code",
   "execution_count": 12,
   "id": "30a82715",
   "metadata": {},
   "outputs": [
    {
     "name": "stdout",
     "output_type": "stream",
     "text": [
      "Sun Oct 24 01:22:17 2021\n"
     ]
    }
   ],
   "source": [
    "import datetime;\n",
    "a=datetime.datetime.now();\n",
    "print(a.strftime(\"%c\"))"
   ]
  },
  {
   "cell_type": "code",
   "execution_count": 13,
   "id": "60944b0e",
   "metadata": {},
   "outputs": [
    {
     "name": "stdout",
     "output_type": "stream",
     "text": [
      "10/24/21\n"
     ]
    }
   ],
   "source": [
    "import datetime;\n",
    "a=datetime.datetime.now();\n",
    "print(a.strftime(\"%x\"))"
   ]
  },
  {
   "cell_type": "code",
   "execution_count": 17,
   "id": "b120d57c",
   "metadata": {},
   "outputs": [
    {
     "name": "stdout",
     "output_type": "stream",
     "text": [
      "DATE: 10/24/21 TIME: 01:25:41\n"
     ]
    }
   ],
   "source": [
    "import datetime;\n",
    "a=datetime.datetime.now();\n",
    "print(a.strftime(\"DATE: %x TIME: %X\"));"
   ]
  },
  {
   "cell_type": "code",
   "execution_count": 19,
   "id": "322fa260",
   "metadata": {},
   "outputs": [
    {
     "name": "stdout",
     "output_type": "stream",
     "text": [
      "DATE: 24/Oct/2021 TIME: 01:26:56\n"
     ]
    }
   ],
   "source": [
    "import datetime;\n",
    "a=datetime.datetime.now();\n",
    "print(a.strftime(\"DATE: %d/%b/%Y TIME: %X\"));"
   ]
  },
  {
   "cell_type": "code",
   "execution_count": 20,
   "id": "4f219829",
   "metadata": {},
   "outputs": [
    {
     "name": "stdout",
     "output_type": "stream",
     "text": [
      "DATE: 24/Oct/2021 TIME: 01:30:50 AM\n"
     ]
    }
   ],
   "source": [
    "import datetime;\n",
    "a=datetime.datetime.now();\n",
    "print(a.strftime(\"DATE: %d/%b/%Y TIME: %I:%M:%S %p\"));"
   ]
  },
  {
   "cell_type": "code",
   "execution_count": 25,
   "id": "5c4ff024",
   "metadata": {},
   "outputs": [
    {
     "name": "stdout",
     "output_type": "stream",
     "text": [
      "DATE: 24/Oct/2021 TIME: 01:33:46 AM\n"
     ]
    }
   ],
   "source": [
    "# import datetime;\n",
    "a=datetime.datetime.now();\n",
    "print(a.strftime(\"DATE: %d/%b/%Y TIME: %I:%M:%S %p\"));"
   ]
  },
  {
   "cell_type": "code",
   "execution_count": 28,
   "id": "71c205ce",
   "metadata": {},
   "outputs": [
    {
     "name": "stdout",
     "output_type": "stream",
     "text": [
      "DATE: 24/Oct/2021 TIME: 01:34:43 AM  \n"
     ]
    }
   ],
   "source": [
    "# import datetime;\n",
    "a=datetime.datetime.now();\n",
    "print(a.strftime(\"DATE: %d/%b/%Y TIME: %I:%M:%S %p %Z %z\"));\n",
    "\n",
    "# %Z %z not shown !!!!!"
   ]
  },
  {
   "cell_type": "code",
   "execution_count": null,
   "id": "5b60684b",
   "metadata": {},
   "outputs": [],
   "source": []
  }
 ],
 "metadata": {
  "kernelspec": {
   "display_name": "Python 3",
   "language": "python",
   "name": "python3"
  },
  "language_info": {
   "codemirror_mode": {
    "name": "ipython",
    "version": 3
   },
   "file_extension": ".py",
   "mimetype": "text/x-python",
   "name": "python",
   "nbconvert_exporter": "python",
   "pygments_lexer": "ipython3",
   "version": "3.8.8"
  }
 },
 "nbformat": 4,
 "nbformat_minor": 5
}
