{
 "cells": [
  {
   "cell_type": "code",
   "execution_count": 1,
   "id": "515794b8",
   "metadata": {},
   "outputs": [
    {
     "name": "stdout",
     "output_type": "stream",
     "text": [
      "Insert value x: 3\n",
      "Insert value y: 4\n",
      "Addition of given values: 7\n"
     ]
    }
   ],
   "source": [
    "# Program by Majid Iqbal - JP12132\n",
    "\n",
    "value1 = input(\"Insert value x: \");\n",
    "value2 =input(\"Insert value y: \");\n",
    "\n",
    "print(\"Addition of given values: \"+ str(int(value1)+int(value2)));\n"
   ]
  },
  {
   "cell_type": "code",
   "execution_count": 14,
   "id": "02db79c8",
   "metadata": {},
   "outputs": [
    {
     "name": "stdout",
     "output_type": "stream",
     "text": [
      "Insert value x: 44\n",
      "Insert value y: 55\n",
      "Error: Given value is not integer.\n"
     ]
    }
   ],
   "source": [
    "# Program by Majid Iqbal - JP12132\n",
    "\n",
    "# print(type(\"string\"))\n",
    "# print(type(323223))\n",
    "# print(type(3.433))\n",
    "# print(type(True))\n",
    "\n",
    "value1 = input(\"Insert value x: \");\n",
    "value2 = input(\"Insert value y: \");\n",
    "\n",
    "\n",
    "\n",
    "if type(value1) == int:\n",
    "    print(\"Addition of given values: \"+ str(int(value1)+int(value2)));\n",
    "else:\n",
    "    print(\"Error: Given value is not integer.\");"
   ]
  },
  {
   "cell_type": "code",
   "execution_count": 12,
   "id": "013d9098",
   "metadata": {},
   "outputs": [
    {
     "name": "stdout",
     "output_type": "stream",
     "text": [
      "True\n"
     ]
    }
   ],
   "source": [
    "var2 = 'this is variable #2'\n",
    "\n",
    "print(isinstance(var2,str));\n",
    "\n",
    "# if type(var2) == str:\n",
    "#     print('your variable is a string')\n",
    "# else:\n",
    "#     print('your variable IS NOT a string')"
   ]
  },
  {
   "cell_type": "code",
   "execution_count": 15,
   "id": "b00f40a4",
   "metadata": {},
   "outputs": [
    {
     "name": "stdout",
     "output_type": "stream",
     "text": [
      "Insert value x: 33\n",
      "Insert value y: 33\n",
      "Addition of given values: 66\n"
     ]
    }
   ],
   "source": [
    "# Program by Majid Iqbal - JP12132\n",
    "\n",
    "value1 = input(\"Insert value x: \");\n",
    "value2 = input(\"Insert value y: \");\n",
    "\n",
    "print(\"Addition of given values: \"+ str(int(value1)+int(value2)));\n"
   ]
  },
  {
   "cell_type": "code",
   "execution_count": null,
   "id": "dd979912",
   "metadata": {},
   "outputs": [],
   "source": []
  }
 ],
 "metadata": {
  "kernelspec": {
   "display_name": "Python 3",
   "language": "python",
   "name": "python3"
  },
  "language_info": {
   "codemirror_mode": {
    "name": "ipython",
    "version": 3
   },
   "file_extension": ".py",
   "mimetype": "text/x-python",
   "name": "python",
   "nbconvert_exporter": "python",
   "pygments_lexer": "ipython3",
   "version": "3.8.8"
  }
 },
 "nbformat": 4,
 "nbformat_minor": 5
}
