{
 "cells": [
  {
   "cell_type": "code",
   "execution_count": 1,
   "id": "9bf9e4dc",
   "metadata": {},
   "outputs": [
    {
     "name": "stdout",
     "output_type": "stream",
     "text": [
      "[1, 2, 4, 5, 7, 8]\n"
     ]
    }
   ],
   "source": [
    "# Program by Majid Iqbal - JP12132\n",
    "\n",
    "list=[1,2,4,5,7,8];\n",
    "print(list);"
   ]
  },
  {
   "cell_type": "code",
   "execution_count": 7,
   "id": "c70e6636",
   "metadata": {},
   "outputs": [
    {
     "name": "stdout",
     "output_type": "stream",
     "text": [
      "1\n",
      "Other\n",
      "4\n",
      "Other\n",
      "7\n",
      "Other\n"
     ]
    }
   ],
   "source": [
    "# Program by Majid Iqbal - JP12132\n",
    "\n",
    "list=[1,True,4,\"Majid\",7,\"Iqbal\"];\n",
    "\n",
    "for x in list:\n",
    "    if type(x)==int:\n",
    "        print(x);\n",
    "    else:\n",
    "        print(\"Other\");"
   ]
  },
  {
   "cell_type": "code",
   "execution_count": 10,
   "id": "179db9f8",
   "metadata": {},
   "outputs": [
    {
     "name": "stdout",
     "output_type": "stream",
     "text": [
      "The sum of all numeric items: 12\n"
     ]
    }
   ],
   "source": [
    "# Program by Majid Iqbal - JP12132\n",
    "\n",
    "list=[1,True,4,\"Majid\",7,\"Iqbal\"];\n",
    "value = 0;\n",
    "for x in list:\n",
    "    if type(x)==int:\n",
    "#         print(x);\n",
    "        value += x;\n",
    "#     else:\n",
    "#         print(\"Other\");\n",
    "print(\"The sum of all numeric items: \"+ str(value));"
   ]
  },
  {
   "cell_type": "code",
   "execution_count": null,
   "id": "b26bf5fb",
   "metadata": {},
   "outputs": [],
   "source": []
  }
 ],
 "metadata": {
  "kernelspec": {
   "display_name": "Python 3",
   "language": "python",
   "name": "python3"
  },
  "language_info": {
   "codemirror_mode": {
    "name": "ipython",
    "version": 3
   },
   "file_extension": ".py",
   "mimetype": "text/x-python",
   "name": "python",
   "nbconvert_exporter": "python",
   "pygments_lexer": "ipython3",
   "version": "3.8.8"
  }
 },
 "nbformat": 4,
 "nbformat_minor": 5
}
