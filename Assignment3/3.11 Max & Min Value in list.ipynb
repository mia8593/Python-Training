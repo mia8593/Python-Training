{
 "cells": [
  {
   "cell_type": "code",
   "execution_count": 9,
   "id": "e8851403",
   "metadata": {},
   "outputs": [
    {
     "name": "stdout",
     "output_type": "stream",
     "text": [
      "MAXIMUM & MINIMUM NUMBER IN LIST !!!\n",
      "\n",
      "Maximum number in list: 7\n",
      "Minimum number in list: 1\n"
     ]
    }
   ],
   "source": [
    "# Program by Majid Iqbal - JP12132\n",
    "\n",
    "list=[1,True,4,\"Majid\",7,\"Iqbal\"];\n",
    "l=[];\n",
    "\n",
    "value = 0;\n",
    "for x in list:\n",
    "    if type(x)==int:\n",
    "#         print(x);\n",
    "        l.append(x);\n",
    "\n",
    "# print(l);\n",
    "print(\"MAXIMUM & MINIMUM NUMBER IN LIST !!!\\n\");\n",
    "print(\"Maximum number in list: \"+ str(max(l)));\n",
    "print(\"Minimum number in list: \"+ str(min(l)));"
   ]
  },
  {
   "cell_type": "code",
   "execution_count": 10,
   "id": "0dbd0e7d",
   "metadata": {},
   "outputs": [
    {
     "name": "stdout",
     "output_type": "stream",
     "text": [
      "How many values in a list: 7\n",
      "Enter numbers: 44\n",
      "Enter numbers: 5\n",
      "Enter numbers: 1\n",
      "Enter numbers: 2\n",
      "Enter numbers: 3\n",
      "Enter numbers: 4\n",
      "Enter numbers: 4\n",
      "MAXIMUM & MINIMUM NUMBER IN LIST !!!\n",
      "\n",
      "Maximum number in list: 44\n",
      "Minimum number in list: 1\n"
     ]
    }
   ],
   "source": [
    "# Program by Majid Iqbal - JP12132\n",
    "\n",
    "# list=[1,True,4,\"Majid\",7,\"Iqbal\"];\n",
    "l=[];\n",
    "num = int(input(\"How many values in a list: \"));\n",
    "for x in range(num):\n",
    "    values = int(input(\"Enter numbers: \"));\n",
    "    list.append(values)\n",
    "\n",
    "for x in list:\n",
    "    if type(x)==int:\n",
    "#         print(x);\n",
    "        l.append(x);\n",
    "\n",
    "# print(l);\n",
    "print(\"MAXIMUM & MINIMUM NUMBER IN LIST !!!\\n\");\n",
    "print(\"Maximum number in list: \"+ str(max(l)));\n",
    "print(\"Minimum number in list: \"+ str(min(l)));"
   ]
  },
  {
   "cell_type": "code",
   "execution_count": null,
   "id": "f493ae92",
   "metadata": {},
   "outputs": [],
   "source": []
  }
 ],
 "metadata": {
  "kernelspec": {
   "display_name": "Python 3",
   "language": "python",
   "name": "python3"
  },
  "language_info": {
   "codemirror_mode": {
    "name": "ipython",
    "version": 3
   },
   "file_extension": ".py",
   "mimetype": "text/x-python",
   "name": "python",
   "nbconvert_exporter": "python",
   "pygments_lexer": "ipython3",
   "version": "3.8.8"
  }
 },
 "nbformat": 4,
 "nbformat_minor": 5
}
