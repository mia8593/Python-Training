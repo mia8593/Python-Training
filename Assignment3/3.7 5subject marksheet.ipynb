{
 "cells": [
  {
   "cell_type": "code",
   "execution_count": 16,
   "id": "06141697",
   "metadata": {},
   "outputs": [
    {
     "name": "stdout",
     "output_type": "stream",
     "text": [
      "Enter Math Marks: 55\n",
      "Enter Physics Marks: 66\n",
      "Enter Chemistry Marks: 77\n",
      "Enter English Marks: 88\n",
      "Enter Islamiyat Marks: 99\n",
      "RESULT MARKSHEET\n",
      "----------------------------------------\n",
      "SUBJECTS     | MATH | PHYSIC | Chemistry | English | ISLAMIYAT\n",
      "MARKS OBTAIN | 55   | 66     | 77        | 88      | 99\n",
      "MAX Marks    | 100  | 100    | 100       | 100     | 100 \n",
      "----------------------------------------\n",
      "OBTAIN MARKS : 385\n",
      "TOTAL MARKS : 500\n",
      "GRADE : A\n"
     ]
    }
   ],
   "source": [
    "# Program by Majid Iqbal - JP12132\n",
    "\n",
    "Math = input(\"Enter Math Marks: \");\n",
    "Physic = input(\"Enter Physics Marks: \");\n",
    "Chemistry = input(\"Enter Chemistry Marks: \");\n",
    "English = input(\"Enter English Marks: \");\n",
    "Islamiyat = input(\"Enter Islamiyat Marks: \");\n",
    "\n",
    "totalMarks = 500;\n",
    "\n",
    "obtainMarks = int(Math) + int(Physic) + int(Chemistry) + int(English) + int(Islamiyat);\n",
    "percentage = obtainMarks / totalMarks * 100;\n",
    "\n",
    "print (\"RESULT MARKSHEET\");\n",
    "\n",
    "print(\"----------------------------------------\");\n",
    "print(\"SUBJECTS     | MATH | PHYSIC | Chemistry | English | ISLAMIYAT\");\n",
    "print(\"MARKS OBTAIN | \"+ str(Math) +\"   | \" + str(Physic) + \"     | \" + str(Chemistry) + \"        | \" + str(English) + \"      | \" + str(Islamiyat) );\n",
    "print(\"MAX Marks    | 100  | 100    | 100       | 100     | 100 \");\n",
    "print(\"----------------------------------------\");\n",
    "print (\"OBTAIN MARKS : \" + str(obtainMarks));\n",
    "print (\"TOTAL MARKS : \" + str(totalMarks));\n",
    "\n",
    "if percentage >= 80 and percentage <= 100:\n",
    "    print(\"GRADE : A1\");\n",
    "elif percentage >70 and percentage < 79:\n",
    "    print(\"GRADE : A\");\n",
    "elif percentage >=60 and percentage <= 69:\n",
    "    print(\"GRADE : B\");\n",
    "elif percentage >=50 and percentage <= 59:\n",
    "    print(\"GRADE : C\");\n",
    "elif percentage >=40 and percentage <= 49:  \n",
    "    print(\"GRADE : D\");\n",
    "elif percentage < 0 or percentage > 100:  \n",
    "    print(\"You Make a MISTAKE in marks or percentage\");\n",
    "\n",
    "else:\n",
    "    print (\"FAIL\");    \n",
    "    \n",
    "    print (percentage);\n"
   ]
  },
  {
   "cell_type": "code",
   "execution_count": null,
   "id": "4c9712f5",
   "metadata": {},
   "outputs": [],
   "source": []
  }
 ],
 "metadata": {
  "kernelspec": {
   "display_name": "Python 3",
   "language": "python",
   "name": "python3"
  },
  "language_info": {
   "codemirror_mode": {
    "name": "ipython",
    "version": 3
   },
   "file_extension": ".py",
   "mimetype": "text/x-python",
   "name": "python",
   "nbconvert_exporter": "python",
   "pygments_lexer": "ipython3",
   "version": "3.8.8"
  }
 },
 "nbformat": 4,
 "nbformat_minor": 5
}
