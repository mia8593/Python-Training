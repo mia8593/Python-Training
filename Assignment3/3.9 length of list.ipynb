{
 "cells": [
  {
   "cell_type": "code",
   "execution_count": 1,
   "id": "787f46ea",
   "metadata": {},
   "outputs": [
    {
     "name": "stdout",
     "output_type": "stream",
     "text": [
      "[1, 2, 4, 5, 7, 8]\n"
     ]
    }
   ],
   "source": [
    "# Program by Majid Iqbal - JP12132\n",
    "\n",
    "list=[1,2,4,5,7,8];\n",
    "print(list);"
   ]
  },
  {
   "cell_type": "code",
   "execution_count": 2,
   "id": "780331e2",
   "metadata": {},
   "outputs": [],
   "source": [
    "list.insert(5,\"go\");"
   ]
  },
  {
   "cell_type": "code",
   "execution_count": 3,
   "id": "2d745bc4",
   "metadata": {},
   "outputs": [
    {
     "data": {
      "text/plain": [
       "[1, 2, 4, 5, 7, 'go', 8]"
      ]
     },
     "execution_count": 3,
     "metadata": {},
     "output_type": "execute_result"
    }
   ],
   "source": [
    "list"
   ]
  },
  {
   "cell_type": "code",
   "execution_count": 9,
   "id": "20926f66",
   "metadata": {},
   "outputs": [
    {
     "name": "stdout",
     "output_type": "stream",
     "text": [
      "8\n"
     ]
    }
   ],
   "source": [
    "print(list[6]);\n"
   ]
  },
  {
   "cell_type": "code",
   "execution_count": 13,
   "id": "4a6a00ee",
   "metadata": {},
   "outputs": [
    {
     "name": "stdout",
     "output_type": "stream",
     "text": [
      "7\n"
     ]
    }
   ],
   "source": [
    "print(len(list));"
   ]
  },
  {
   "cell_type": "code",
   "execution_count": 15,
   "id": "117523c1",
   "metadata": {},
   "outputs": [
    {
     "name": "stdout",
     "output_type": "stream",
     "text": [
      "Lenght of List is 7\n"
     ]
    }
   ],
   "source": [
    "print(\"Lenght of List is \" + str(len(list)));"
   ]
  },
  {
   "cell_type": "code",
   "execution_count": null,
   "id": "376337b3",
   "metadata": {},
   "outputs": [],
   "source": []
  }
 ],
 "metadata": {
  "kernelspec": {
   "display_name": "Python 3",
   "language": "python",
   "name": "python3"
  },
  "language_info": {
   "codemirror_mode": {
    "name": "ipython",
    "version": 3
   },
   "file_extension": ".py",
   "mimetype": "text/x-python",
   "name": "python",
   "nbconvert_exporter": "python",
   "pygments_lexer": "ipython3",
   "version": "3.8.8"
  }
 },
 "nbformat": 4,
 "nbformat_minor": 5
}
